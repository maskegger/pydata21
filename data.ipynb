{
 "cells": [
  {
   "cell_type": "code",
   "execution_count": null,
   "id": "45104163",
   "metadata": {
    "slideshow": {
     "slide_type": "slide"
    }
   },
   "outputs": [],
   "source": [
    "import pandas as pd\n",
    "import numpy as np\n",
    "\n",
    "data20 = pd.read_csv(\"2020.csv\")\n",
    "\n",
    "data = pd.read_csv(\"2021.csv\")"
   ]
  },
  {
   "cell_type": "code",
   "execution_count": null,
   "id": "806091a1",
   "metadata": {
    "slideshow": {
     "slide_type": "slide"
    }
   },
   "outputs": [],
   "source": [
    "players21 = set(data.name)\n",
    "players20 = set(data20.name)\n",
    "players20 = players20.intersection(players21)\n",
    "data20 = data20[data20['name'].isin(players20)]\n",
    "data = data[data['name'].isin(players20)]"
   ]
  },
  {
   "cell_type": "code",
   "execution_count": null,
   "id": "4061a4dd",
   "metadata": {
    "slideshow": {
     "slide_type": "slide"
    }
   },
   "outputs": [],
   "source": [
    "data20['total_points_20'] = data20['total_points']\n",
    "data20['GW_20'] = data20['GW']\n",
    "data20['name_20'] = data20['name']\n",
    "data20 = data20[['name_20','GW_20','total_points_20']]\n",
    "cols = ['name','GW']\n",
    "cols20 = ['name_20','GW_20']\n",
    "data20.set_index(cols20)\n",
    "data.set_index(cols)\n",
    "data = data.join(data20)\n",
    "data = data[(data['name']==data['name_20']) & (data['GW']==data['GW_20'])]"
   ]
  },
  {
   "cell_type": "code",
   "execution_count": null,
   "id": "49c3ec97",
   "metadata": {
    "slideshow": {
     "slide_type": "slide"
    }
   },
   "outputs": [],
   "source": [
    "team_names = sorted(list(set(list((data.team)))))\n",
    "team_ids = np.arange(1,21)\n",
    "data['opponent_team'] = data['opponent_team'].map(dict(zip(team_ids, team_names)))"
   ]
  },
  {
   "cell_type": "code",
   "execution_count": null,
   "id": "b07f429a",
   "metadata": {
    "slideshow": {
     "slide_type": "slide"
    }
   },
   "outputs": [],
   "source": [
    "#in previous year\n",
    "goals_conceded_by_team = {'Arsenal': 39,'Aston Villa': 46,'Brighton': 46,'Burnley': 55,\n",
    "                          'Chelsea': 36,'Crystal Palace': 66,'Everton': 48,'Fulham': 55,\n",
    "                          'Leeds': 54,'Leicester': 50,'Liverpool': 42,'Man City': 32,\n",
    "                          'Man Utd': 44,'Newcastle': 62,'Sheffield Utd': 63,'Southampton': 68,\n",
    "                          'Spurs': 45,'West Brom': 76,'West Ham': 47,'Wolves': 52}\n",
    "\n",
    "goals_scored= {'Man City':83,'Man Utd':73,'Leicester':68,\n",
    "               'Liverpool':68,'Spurs':68,'Leeds':62,'West Ham':62,\n",
    "               'Chelsea':58,'Arsenal':55,'Aston Villa':55,'Southampton':48,\n",
    "               'Everton':47,'Newcastle':46,'Brighton':41,'Crystal Palace':41,\n",
    "               'Wolves':36,'West Brom':35,'Burnley':33,'Fulham':27,'Sheffield Utd':20}\n",
    "\n",
    "team_wins = {'Man City': 27,'Man Utd': 21, 'Leicester': 20,'Liverpool': 20,\n",
    "             'Chelsea': 19,'West Ham': 19,'Arsenal': 18,'Leeds': 18,'Spurs': 18,\n",
    "             'Everton': 17,'Aston Villa': 16,'Crystal Palace': 12,'Newcastle': 12,\n",
    "             'Southampton': 12,'Wolves': 12,'Burnley': 10,'Brighton': 9,\n",
    "             'Sheffield Utd': 7,'Fulham': 5,'West Brom': 5}"
   ]
  },
  {
   "cell_type": "code",
   "execution_count": null,
   "id": "2cbe0a42",
   "metadata": {
    "slideshow": {
     "slide_type": "slide"
    }
   },
   "outputs": [],
   "source": [
    "#we measure goals_conceded as an inverse indicator of defense strength\n",
    "data['opp_defense_rank'] = data['opponent_team'].map(goals_conceded_by_team)\n",
    "data.sort_values(by =['opp_defense_rank'], inplace = True)\n",
    "data['opp_defense_rank']= pd.qcut(data['opp_defense_rank'],q = 4, labels = False)\n",
    "\n",
    "#Goals scored are an attribute of team strength\n",
    "data['opp_attack_rank'] = data['opponent_team'].map(goals_scored)\n",
    "data.sort_values(by =['opp_attack_rank'], inplace = True)\n",
    "data['opp_attack_rank']= pd.qcut(data['opp_attack_rank'],q = 4, labels = False)\n",
    "\n",
    "#Final rankings naturally give an idea of the overall team strength/quality\n",
    "\n",
    "data['team_cluster_rank'] = data['opponent_team'].map(goals_scored)\n",
    "data.sort_values(by =['team_cluster_rank'], inplace = True)\n",
    "data['team_cluster_rank']= pd.qcut(data['team_cluster_rank'],q = 4, labels = False)                                                                     \n",
    "\n",
    "data['opp_cluster_rank'] = data['opponent_team'].map(goals_scored)\n",
    "data.sort_values(by =['opp_cluster_rank'], inplace = True)\n",
    "data['opp_cluster_rank']= pd.qcut(data['opp_cluster_rank'],q = 4, labels = False)"
   ]
  },
  {
   "cell_type": "code",
   "execution_count": null,
   "id": "dd7503a0",
   "metadata": {
    "slideshow": {
     "slide_type": "slide"
    }
   },
   "outputs": [],
   "source": [
    "data['opponent_team'] = data['opponent_team'].map(dict(zip(team_names, team_ids)))\n",
    "data['team'] = data['team'].map(dict(zip(team_names, team_ids)))"
   ]
  },
  {
   "cell_type": "code",
   "execution_count": null,
   "id": "bfabc67e",
   "metadata": {
    "slideshow": {
     "slide_type": "slide"
    }
   },
   "outputs": [],
   "source": [
    "initval = data[data['GW']==1][[\"name\",\"value\"]]\n",
    "data['initval'] = data['name'].map(dict(zip(initval.name, initval.value)))"
   ]
  },
  {
   "cell_type": "code",
   "execution_count": null,
   "id": "83347943",
   "metadata": {
    "slideshow": {
     "slide_type": "slide"
    }
   },
   "outputs": [],
   "source": [
    "data['pos_id'] = data['position']\n",
    "data = pd.get_dummies(data,columns=['position'])\n",
    "pos_ids = np.array([k for k in data['pos_id'].unique()])\n",
    "data['pos_id']=data['pos_id'].apply(lambda x : np.where(x == pos_ids)[0][0])"
   ]
  },
  {
   "cell_type": "code",
   "execution_count": null,
   "id": "063ba449",
   "metadata": {
    "slideshow": {
     "slide_type": "slide"
    }
   },
   "outputs": [],
   "source": [
    "data['game_avg_7']= data.groupby(['name']\n",
    "                                )['total_points_20'].rolling(7).mean().reset_index(0,drop=True)\n",
    "\n",
    "data.sort_values(by =['game_avg_7'], inplace = True)\n",
    "data['rank']= pd.qcut(data['game_avg_7'],q = 4, labels = False)\n",
    "data['diff_from_avg'] = data['total_points'] - data['game_avg_7']"
   ]
  },
  {
   "cell_type": "code",
   "execution_count": null,
   "id": "04b076f6",
   "metadata": {
    "slideshow": {
     "slide_type": "slide"
    }
   },
   "outputs": [],
   "source": [
    "pts=data.groupby(['name']).sum()\n",
    "pts = pts[pts['total_points']>50]\n",
    "chosen_players = pts.index\n",
    "data = data[data['name'].isin(chosen_players)]"
   ]
  },
  {
   "cell_type": "code",
   "execution_count": null,
   "id": "09f45031",
   "metadata": {
    "slideshow": {
     "slide_type": "slide"
    }
   },
   "outputs": [],
   "source": [
    "data['was_homee']=data['was_home']\n",
    "data = pd.get_dummies(data,columns=['was_home'])\n",
    "data['was_home']=data['was_homee']\n",
    "data = data.dropna()"
   ]
  },
  {
   "cell_type": "code",
   "execution_count": null,
   "id": "d1e29b96",
   "metadata": {
    "slideshow": {
     "slide_type": "slide"
    }
   },
   "outputs": [],
   "source": [
    "data = data[['name', 'total_points','position_DEF','GW','team',\n",
    "             'opponent_team','position_FWD', 'position_GK', \n",
    "             'position_MID', 'game_avg_7' ,'pos_id',\n",
    "             'initval','rank','diff_from_avg',\n",
    "            'opp_defense_rank','opp_attack_rank','team_cluster_rank',\n",
    "            'opp_cluster_rank','was_home','total_points_20']]\n",
    "data.sort_values(by=['GW'],inplace=True)\n",
    "data.to_csv('data.csv',index=False)"
   ]
  }
 ],
 "metadata": {
  "celltoolbar": "Slideshow",
  "kernelspec": {
   "display_name": "Python 3",
   "language": "python",
   "name": "python3"
  },
  "language_info": {
   "codemirror_mode": {
    "name": "ipython",
    "version": 3
   },
   "file_extension": ".py",
   "mimetype": "text/x-python",
   "name": "python",
   "nbconvert_exporter": "python",
   "pygments_lexer": "ipython3",
   "version": "3.8.8"
  }
 },
 "nbformat": 4,
 "nbformat_minor": 5
}
