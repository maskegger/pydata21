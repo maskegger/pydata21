{
 "cells": [
  {
   "cell_type": "code",
   "execution_count": 1,
   "id": "b23eed6c",
   "metadata": {},
   "outputs": [],
   "source": [
    "import pymc3 as pm\n",
    "import theano\n",
    "import pandas as pd\n",
    "import numpy as np"
   ]
  },
  {
   "cell_type": "code",
   "execution_count": 2,
   "id": "38cb899f",
   "metadata": {},
   "outputs": [],
   "source": [
    "data = pd.read_csv('data.csv')\n",
    "train = data[:2985]\n",
    "test = data[2986:]"
   ]
  },
  {
   "cell_type": "code",
   "execution_count": 3,
   "id": "676474a3",
   "metadata": {},
   "outputs": [],
   "source": [
    "ranks=4\n",
    "team_number = 20\n",
    "player_names = set(train.name)\n",
    "opp_defense_rank_no = train.opp_defense_rank.max() \n",
    "opp_attack_rank_no = train.opp_attack_rank.max() \n",
    "team_cluster_rank_no = train.team_cluster_rank.max() \n",
    "opp_cluster_rank_no = train.opp_cluster_rank.max() \n",
    "num_positions = 4\n",
    "N = len(train)\n",
    "\n",
    "\n",
    "with pm.Model() as model:\n",
    "    nu = pm.Exponential('nu minus one', 1/29.,shape=2) + 1 \n",
    "    err = pm.Uniform('std dev based on rank', 0, 100, shape=ranks)\n",
    "    err_b = pm.Uniform('std dev based on rank b', 0, 100, shape=ranks)\n",
    "\n",
    "    # Theano shared variables to change at test time\n",
    "    was_home_True = theano.shared(np.asarray(train['was_home_True'].values, dtype = bool))\n",
    "    was_home_False = theano.shared(np.asarray(train['was_home_False'].values, dtype = bool))\n",
    "    opp_cluster_rank = theano.shared(np.asarray((train['opp_cluster_rank']).values, dtype = int))\n",
    "    opp_defense_rank = theano.shared(np.asarray((train['opp_defense_rank']).values, dtype = int))\n",
    "    opp_attack_rank = theano.shared(np.asarray((train['opp_attack_rank']).values, dtype = int))\n",
    "    initval = theano.shared(np.asarray((train['initval']).values, dtype = int))\n",
    "    player_home = theano.shared(np.asarray(train['was_home'].values, dtype = int))\n",
    "    player_avg = theano.shared(np.asarray((train['game_avg_7']).values, dtype = float))\n",
    "    player_opp = theano.shared(np.asarray((train['opponent_team']).values, dtype = int))\n",
    "    player_team = theano.shared(np.asarray((train['team']).values, dtype = int))\n",
    "    player_rank = theano.shared(np.asarray((train['rank']-1).values, dtype = int))\n",
    "    position_FWD = theano.shared(np.asarray((train['position_FWD']).values.astype(int), \n",
    "                                            dtype = int))\n",
    "    position_MID = theano.shared(np.asarray((train['position_MID']).values.astype(int), \n",
    "                                            dtype = int))\n",
    "    position_GK = theano.shared(np.asarray((train['position_GK']).values.astype(int), \n",
    "                                           dtype = int))\n",
    "    position_DEF = theano.shared(np.asarray((train['position_DEF']).values.astype(int), \n",
    "                                            dtype = int))\n",
    "    pos_id = theano.shared(np.asarray((train['pos_id']).values, dtype = int))\n",
    "\n",
    "    # Defensive ability of the opposing team vs. each position, partially pooled\n",
    "    opp_def = pm.Normal('opp team prior',0, sd=100**2, shape=num_positions)\n",
    "    opp_fwd = pm.Normal('defensive differential fwd', opp_def[0], sd=100**2, shape=team_number)\n",
    "    opp_mid = pm.Normal('defensive differential mid', opp_def[1], sd=100**2, shape=team_number)\n",
    "    opp_gk = pm.Normal('defensive differential gk', opp_def[2], sd=100**2, shape=team_number)\n",
    "    opp_defe = pm.Normal('defensive differential defe', opp_def[3], sd=100**2, shape=team_number)\n",
    "    \n",
    "    # Partially pooled ability of the player's rank partially pooled based on position\n",
    "    home_adv = pm.Normal('home additivie prior', 0, 100**2,shape = num_positions)     \n",
    "    away_adv = pm.Normal('away additivie prior', 0, 100**2,shape = num_positions)     \n",
    "    pos_home_fwd = pm.Normal('home differential fwd',home_adv[0],10**2, shape = ranks)\n",
    "    pos_home_gk = pm.Normal('home differential gk',home_adv[1],10**2, shape = ranks)\n",
    "    pos_home_defe = pm.Normal('home differential defe',home_adv[2],10**2, shape = ranks)\n",
    "    pos_home_mid = pm.Normal('home differential mid',home_adv[3],10**2, shape = ranks)\n",
    "    pos_away_fwd = pm.Normal('away differential fwd',away_adv[0],10**2, shape = ranks)\n",
    "    pos_away_gk = pm.Normal('away differential gk',away_adv[1],10**2, shape = ranks)\n",
    "    pos_away_mid = pm.Normal('away differential mid',away_adv[2],10**2, shape = ranks)\n",
    "    pos_away_defe = pm.Normal('away differential defe',away_adv[3],10**2, shape = ranks)"
   ]
  },
  {
   "cell_type": "code",
   "execution_count": 4,
   "id": "b644e177",
   "metadata": {},
   "outputs": [],
   "source": [
    "with model:\n",
    "    \n",
    "    team_strength = pm.Normal('team_strength',0, sd=100**2, shape=2) #home and away\n",
    "    team_strength_home = pm.Normal('team_strength_home',team_strength[0],\n",
    "                                   sd=100, shape=num_positions)\n",
    "    team_strength_away = pm.Normal('team_strength_away',team_strength[1], \n",
    "                                   sd=100, shape=num_positions)\n",
    "\n",
    "    team_strength_home_FWD = pm.Normal('team_strength_home_FWD',0, \n",
    "                                       sd=100, shape=team_cluster_rank_no)\n",
    "    team_strength_home_MID = pm.Normal('team_strength_home_MID',0,\n",
    "                                       sd=100, shape=team_cluster_rank_no)\n",
    "    team_strength_home_DEF = pm.Normal('team_strength_home_DEF',0, \n",
    "                                       sd=100, shape=team_cluster_rank_no)\n",
    "    team_strength_home_GK = pm.Normal('team_strength_home_GK',0, \n",
    "                                      sd=100, shape=team_cluster_rank_no)\n",
    "    \n",
    "    team_strength_away_FWD = pm.Normal('team_strength_away_FWD',0, \n",
    "                                       sd=100, shape=team_cluster_rank_no)\n",
    "    team_strength_away_MID = pm.Normal('team_strength_away_MID',0, \n",
    "                                       sd=100, shape=team_cluster_rank_no)\n",
    "    team_strength_away_DEF = pm.Normal('team_strength_away_DEF',0, \n",
    "                                       sd=100, shape=team_cluster_rank_no)\n",
    "    team_strength_away_GK = pm.Normal('team_strength_away_GK',0,\n",
    "                                      sd=100, shape=team_cluster_rank_no)\n",
    "    \n",
    "    \n",
    "    team_strength_effects = (\n",
    "        was_home_True*position_FWD*team_strength_home_FWD[opp_cluster_rank-1] +\n",
    "        was_home_True*position_MID*team_strength_home_MID[opp_cluster_rank-1] +\n",
    "        was_home_True*position_DEF*team_strength_home_DEF[opp_cluster_rank-1] +\n",
    "        was_home_True*position_GK*team_strength_home_GK[opp_cluster_rank-1] +\n",
    "\n",
    "        was_home_False*position_FWD*team_strength_away_FWD[opp_cluster_rank-1] +\n",
    "        was_home_False*position_MID*team_strength_away_MID[opp_cluster_rank-1] +\n",
    "        was_home_False*position_DEF*team_strength_away_DEF[opp_cluster_rank-1] +\n",
    "        was_home_False*position_GK*team_strength_away_GK[opp_cluster_rank-1])\n",
    "    \n",
    "    opp_strength = pm.Normal('opp_strength',0, sd=100**2, shape=3)\n",
    "    opp_strength_team = pm.Normal('opp_strength_team',0, sd=100**2, shape=num_positions)\n",
    "    opp_strength_defense_team = pm.Normal('opp_strength_defense_team',0, sd=100**2, shape=num_positions)\n",
    "    opp_strength_attack_team = pm.Normal('opp_strength_attack_team',0, \n",
    "                                         sd=100**2, shape=num_positions)\n",
    "    \n",
    "    opp_strength_team_FWD = pm.Normal('opp_strength_team_FWD',0, \n",
    "                                      sd=100**2, shape=opp_cluster_rank_no)\n",
    "    opp_strength_team_MID = pm.Normal('opp_strength_team_MID',0, \n",
    "                                      sd=100**2, shape=opp_cluster_rank_no)\n",
    "    opp_strength_team_DEF = pm.Normal('opp_strength_team_DEF',0, \n",
    "                                      sd=100**2, shape=opp_cluster_rank_no)\n",
    "    opp_strength_team_GK = pm.Normal('opp_strength_team_GK',0, \n",
    "                                     sd=100**2, shape=opp_cluster_rank_no)\n",
    "    \n",
    "    opp_strength_team_effects = (\n",
    "        position_FWD*opp_strength_team_FWD[opp_cluster_rank-1] +\n",
    "        position_MID*opp_strength_team_MID[opp_cluster_rank-1] +\n",
    "        position_DEF*opp_strength_team_DEF[opp_cluster_rank-1] +\n",
    "        position_GK*opp_strength_team_GK[opp_cluster_rank-1])\n",
    "                \n",
    "    opp_strength_defense_team_FWD = pm.Normal('opp_strength_defense_team_FWD',0, \n",
    "                                              sd=100**2, shape=opp_defense_rank_no)\n",
    "    opp_strength_defense_team_MID = pm.Normal('opp_strength_defense_team_MID',0, \n",
    "                                              sd=100**2, shape=opp_defense_rank_no)\n",
    "    opp_strength_defense_team_DEF = pm.Normal('opp_strength_defense_team_DEF',0, \n",
    "                                              sd=100**2, shape=opp_defense_rank_no)\n",
    "    opp_strength_defense_team_GK = pm.Normal('opp_strength_defense_team_GK',0, \n",
    "                                             sd=100**2, shape=opp_defense_rank_no)\n",
    "\n",
    "    opp_strength_defense_team_effects = (\n",
    "        position_FWD*opp_strength_defense_team_FWD[opp_cluster_rank-1] +\n",
    "        position_MID*opp_strength_defense_team_MID[opp_cluster_rank-1] +\n",
    "        position_DEF*opp_strength_defense_team_DEF[opp_cluster_rank-1] +\n",
    "        position_GK*opp_strength_defense_team_GK[opp_cluster_rank-1])\n",
    "                \n",
    "    opp_strength_attack_team_FWD = pm.Normal('opp_strength_attack_team_FWD',0, \n",
    "                                             sd=100**2, shape=opp_attack_rank_no)\n",
    "    opp_strength_attack_team_MID = pm.Normal('opp_strength_attack_team_MID',0, \n",
    "                                             sd=100**2, shape=opp_attack_rank_no)\n",
    "    opp_strength_attack_team_DEF = pm.Normal('opp_strength_attack_team_DEF',0, \n",
    "                                             sd=100**2, shape=opp_attack_rank_no)\n",
    "    opp_strength_attack_team_GK = pm.Normal('opp_strength_attack_team_GK',0, \n",
    "                                            sd=100**2, shape=opp_attack_rank_no)\n",
    "\n",
    "    opp_strength_attack_team_effects = (\n",
    "        position_FWD*opp_strength_attack_team_FWD[opp_cluster_rank-1] +\n",
    "        position_MID*opp_strength_attack_team_MID[opp_cluster_rank-1] +\n",
    "        position_DEF*opp_strength_attack_team_DEF[opp_cluster_rank-1] +\n",
    "        position_GK*opp_strength_attack_team_GK[opp_cluster_rank-1])\n"
   ]
  },
  {
   "cell_type": "code",
   "execution_count": 5,
   "id": "1cd51837",
   "metadata": {
    "collapsed": true
   },
   "outputs": [
    {
     "name": "stderr",
     "output_type": "stream",
     "text": [
      "<ipython-input-5-70ce0aedf037>:20: FutureWarning: In v4.0, pm.sample will return an `arviz.InferenceData` object instead of a `MultiTrace` by default. You can pass return_inferencedata=True or return_inferencedata=False to be safe and silence this warning.\n",
      "  trace=pm.sample(10000, pm.Metropolis())\n",
      "Multiprocess sampling (4 chains in 4 jobs)\n",
      "CompoundStep\n",
      ">Metropolis: [initval_coeff]\n",
      ">Metropolis: [opp_strength_attack_team_GK]\n",
      ">Metropolis: [opp_strength_attack_team_DEF]\n",
      ">Metropolis: [opp_strength_attack_team_MID]\n",
      ">Metropolis: [opp_strength_attack_team_FWD]\n",
      ">Metropolis: [opp_strength_defense_team_GK]\n",
      ">Metropolis: [opp_strength_defense_team_DEF]\n",
      ">Metropolis: [opp_strength_defense_team_MID]\n",
      ">Metropolis: [opp_strength_defense_team_FWD]\n",
      ">Metropolis: [opp_strength_team_GK]\n",
      ">Metropolis: [opp_strength_team_DEF]\n",
      ">Metropolis: [opp_strength_team_MID]\n",
      ">Metropolis: [opp_strength_team_FWD]\n",
      ">Metropolis: [opp_strength_attack_team]\n",
      ">Metropolis: [opp_strength_defense_team]\n",
      ">Metropolis: [opp_strength_team]\n",
      ">Metropolis: [opp_strength]\n",
      ">Metropolis: [team_strength_away_GK]\n",
      ">Metropolis: [team_strength_away_DEF]\n",
      ">Metropolis: [team_strength_away_MID]\n",
      ">Metropolis: [team_strength_away_FWD]\n",
      ">Metropolis: [team_strength_home_GK]\n",
      ">Metropolis: [team_strength_home_DEF]\n",
      ">Metropolis: [team_strength_home_MID]\n",
      ">Metropolis: [team_strength_home_FWD]\n",
      ">Metropolis: [team_strength_away]\n",
      ">Metropolis: [team_strength_home]\n",
      ">Metropolis: [team_strength]\n",
      ">Metropolis: [away differential defe]\n",
      ">Metropolis: [away differential mid]\n",
      ">Metropolis: [away differential gk]\n",
      ">Metropolis: [away differential fwd]\n",
      ">Metropolis: [home differential mid]\n",
      ">Metropolis: [home differential defe]\n",
      ">Metropolis: [home differential gk]\n",
      ">Metropolis: [home differential fwd]\n",
      ">Metropolis: [away additivie prior]\n",
      ">Metropolis: [home additivie prior]\n",
      ">Metropolis: [defensive differential defe]\n",
      ">Metropolis: [defensive differential gk]\n",
      ">Metropolis: [defensive differential mid]\n",
      ">Metropolis: [defensive differential fwd]\n",
      ">Metropolis: [opp team prior]\n",
      ">Metropolis: [std dev based on rank b]\n",
      ">Metropolis: [std dev based on rank]\n",
      ">Metropolis: [nu minus one]\n"
     ]
    },
    {
     "data": {
      "text/html": [
       "\n",
       "    <div>\n",
       "        <style>\n",
       "            /* Turns off some styling */\n",
       "            progress {\n",
       "                /* gets rid of default border in Firefox and Opera. */\n",
       "                border: none;\n",
       "                /* Needs to be in here for Safari polyfill so background images work as expected. */\n",
       "                background-size: auto;\n",
       "            }\n",
       "            .progress-bar-interrupted, .progress-bar-interrupted::-webkit-progress-bar {\n",
       "                background: #F44336;\n",
       "            }\n",
       "        </style>\n",
       "      <progress value='44000' class='' max='44000' style='width:300px; height:20px; vertical-align: middle;'></progress>\n",
       "      100.00% [44000/44000 31:58<00:00 Sampling 4 chains, 0 divergences]\n",
       "    </div>\n",
       "    "
      ],
      "text/plain": [
       "<IPython.core.display.HTML object>"
      ]
     },
     "metadata": {},
     "output_type": "display_data"
    },
    {
     "name": "stderr",
     "output_type": "stream",
     "text": [
      "Sampling 4 chains for 1_000 tune and 10_000 draw iterations (4_000 + 40_000 draws total) took 1942 seconds.\n",
      "The rhat statistic is larger than 1.4 for some parameters. The sampler did not converge.\n",
      "The estimated number of effective samples is smaller than 200 for some parameters.\n"
     ]
    }
   ],
   "source": [
    "with model:\n",
    "    # First likelihood where the player's difference from average is explained by defensive abililty\n",
    "    def_effect = position_FWD*opp_fwd[player_opp-1]+ \n",
    "    position_MID*opp_mid[player_opp-1]+ position_GK*opp_gk[player_opp-1]+ \n",
    "    position_DEF*opp_defe[player_opp-1]\n",
    "    \n",
    "    like1 = pm.StudentT('Diff From Avg', mu=def_effect, \n",
    "                        sd=err_b[player_rank],nu=nu[1], observed = train['diff_from_avg'])\n",
    "    \n",
    "    initval_coeff = pm.Normal('initval_coeff',0,100, shape = N)\n",
    "    \n",
    "    # Second likelihood where the score is predicted by defensive power plus other smaller factors\n",
    "    mu = player_avg + def_effect\n",
    "    \n",
    "    mu += position_GK*pos_home_gk[player_rank]*(player_home) +\n",
    "    position_MID*pos_home_mid[player_rank]*(player_home) \n",
    "    \n",
    "    mu += position_FWD*pos_home_fwd[player_rank]*(player_home) +\n",
    "    position_DEF*pos_home_defe[player_rank]*(player_home) \n",
    "    \n",
    "    mu += position_GK*pos_away_gk[player_rank]*(1-player_home) +\n",
    "    position_MID*pos_away_mid[player_rank]*(1-player_home) \n",
    "    \n",
    "    mu += position_FWD*pos_away_fwd[player_rank]*(1-player_home) +\n",
    "    position_DEF*pos_away_defe[player_rank]*(1-player_home)  \n",
    "    \n",
    "    mu += (team_strength_effects + opp_strength_team_effects +\n",
    "           opp_strength_attack_team_effects + \n",
    "           opp_strength_defense_team_effects + initval*initval_coeff)\n",
    "    \n",
    "    like2 = pm.StudentT('Score', mu=mu, sd=err[player_rank], \n",
    "                        nu=nu[0], observed=train['total_points'])\n",
    "\n",
    "    # Training!\n",
    "    trace=pm.sample(10000, pm.Metropolis())\n",
    "    \n",
    "    "
   ]
  },
  {
   "cell_type": "code",
   "execution_count": 9,
   "id": "7fe89429",
   "metadata": {
    "collapsed": true
   },
   "outputs": [
    {
     "name": "stderr",
     "output_type": "stream",
     "text": [
      "/Users/meenaljhajharia/anaconda3/lib/python3.8/site-packages/pymc3/sampling.py:1689: UserWarning: samples parameter is smaller than nchains times ndraws, some draws and/or chains may not be represented in the returned posterior predictive sample\n",
      "  warnings.warn(\n"
     ]
    },
    {
     "data": {
      "text/html": [
       "\n",
       "    <div>\n",
       "        <style>\n",
       "            /* Turns off some styling */\n",
       "            progress {\n",
       "                /* gets rid of default border in Firefox and Opera. */\n",
       "                border: none;\n",
       "                /* Needs to be in here for Safari polyfill so background images work as expected. */\n",
       "                background-size: auto;\n",
       "            }\n",
       "            .progress-bar-interrupted, .progress-bar-interrupted::-webkit-progress-bar {\n",
       "                background: #F44336;\n",
       "            }\n",
       "        </style>\n",
       "      <progress value='1000' class='' max='1000' style='width:300px; height:20px; vertical-align: middle;'></progress>\n",
       "      100.00% [1000/1000 00:06<00:00]\n",
       "    </div>\n",
       "    "
      ],
      "text/plain": [
       "<IPython.core.display.HTML object>"
      ]
     },
     "metadata": {},
     "output_type": "display_data"
    }
   ],
   "source": [
    "with model:\n",
    "    was_home_True = theano.shared(np.asarray(test['was_home_True'].values, dtype = bool))\n",
    "    was_home_False = theano.shared(np.asarray(test['was_home_False'].values, dtype = bool))\n",
    "    opp_cluster_rank = theano.shared(np.asarray((test['opp_cluster_rank']).values, dtype = int))\n",
    "    opp_defense_rank = theano.shared(np.asarray((test['opp_defense_rank']).values, dtype = int))\n",
    "    opp_attack_rank = theano.shared(np.asarray((test['opp_attack_rank']).values, dtype = int))\n",
    "    initval = theano.shared(np.asarray((test['initval']).values, dtype = int))\n",
    "    player_home = theano.shared(np.asarray(test['was_home'].values, dtype = int))\n",
    "    player_avg = theano.shared(np.asarray((test['game_avg_7']).values, dtype = float))\n",
    "    player_opp = theano.shared(np.asarray((test['opponent_team']).values, dtype = int))\n",
    "    player_team = theano.shared(np.asarray((test['team']).values, dtype = int))\n",
    "    player_rank = theano.shared(np.asarray((test['rank']-1).values, dtype = int))\n",
    "    position_FWD = theano.shared(np.asarray((test['position_FWD']).values.astype(int), \n",
    "                                            dtype = int))\n",
    "    position_MID = theano.shared(np.asarray((test['position_MID']).values.astype(int), \n",
    "                                            dtype = int))\n",
    "    position_GK = theano.shared(np.asarray((test['position_GK']).values.astype(int), \n",
    "                                           dtype = int))\n",
    "    position_DEF = theano.shared(np.asarray((test['position_DEF']).values.astype(int), \n",
    "                                            dtype = int))\n",
    "    pos_id = theano.shared(np.asarray((test['pos_id']).values, \n",
    "                                      dtype = int))\n",
    "\n",
    "\n",
    "    ppc=pm.sample_posterior_predictive(trace, samples=1000)\n"
   ]
  },
  {
   "cell_type": "code",
   "execution_count": 10,
   "id": "4ccfdb50",
   "metadata": {},
   "outputs": [
    {
     "name": "stdout",
     "output_type": "stream",
     "text": [
      "Projection Mean Absolute Error: 2.219863021260242\n",
      "7 Day Average Mean Absolute Error: 1.9040440296721703\n"
     ]
    }
   ],
   "source": [
    "from sklearn.metrics import mean_absolute_error\n",
    "\n",
    "print('Projection Mean Absolute Error:', \n",
    "      mean_absolute_error(test.loc[:,'total_points'].values, ppc['Score'].mean(axis=0)))\n",
    "\n",
    "print('7 Day Average Mean Absolute Error:', \n",
    "      mean_absolute_error(test.loc[:,'total_points'].values, test.loc[:,'game_avg_7'].values))"
   ]
  },
  {
   "cell_type": "code",
   "execution_count": 12,
   "id": "61241d26",
   "metadata": {},
   "outputs": [
    {
     "data": {
      "text/plain": [
       "8"
      ]
     },
     "execution_count": 12,
     "metadata": {},
     "output_type": "execute_result"
    }
   ],
   "source": [
    "test['pred_points'] = ppc['Score'][0].tolist()\n",
    "pts=test.groupby(['name']).sum()\n",
    "pts.sort_values(by =['pred_points'], inplace = True,ascending=False)\n",
    "pred = set(pts[:11].index)\n",
    "pts=test.groupby(['name']).sum()\n",
    "pts.sort_values(by =['total_points'], inplace = True,ascending=False)\n",
    "truth = set(pts[:11].index)\n",
    "len(pred.intersection(truth))"
   ]
  },
  {
   "cell_type": "code",
   "execution_count": 19,
   "id": "306f1c7a",
   "metadata": {},
   "outputs": [
    {
     "data": {
      "text/plain": [
       "{'Emiliano Martínez',\n",
       " 'Harry Kane',\n",
       " 'Heung-Min Son',\n",
       " 'Illan Meslier',\n",
       " 'Jamie Vardy',\n",
       " 'Jordan Pickford',\n",
       " 'Lucas Digne',\n",
       " 'Matheus Pereira',\n",
       " 'Mohamed Salah',\n",
       " 'Patrick Bamford',\n",
       " 'Sam Johnstone'}"
      ]
     },
     "execution_count": 19,
     "metadata": {},
     "output_type": "execute_result"
    }
   ],
   "source": [
    "pred"
   ]
  },
  {
   "cell_type": "code",
   "execution_count": 20,
   "id": "25b974a3",
   "metadata": {},
   "outputs": [
    {
     "data": {
      "text/plain": [
       "{'Emiliano Martínez',\n",
       " 'Harry Kane',\n",
       " 'Illan Meslier',\n",
       " 'Lucas Digne',\n",
       " 'Matheus Pereira',\n",
       " 'Mohamed Salah',\n",
       " 'Nicolas Pépé',\n",
       " 'Patrick Bamford',\n",
       " 'Sam Johnstone',\n",
       " 'Stuart Dallas',\n",
       " 'Trent Alexander-Arnold'}"
      ]
     },
     "execution_count": 20,
     "metadata": {},
     "output_type": "execute_result"
    }
   ],
   "source": [
    "truth"
   ]
  },
  {
   "cell_type": "code",
   "execution_count": 21,
   "id": "ea21a6c6",
   "metadata": {},
   "outputs": [
    {
     "data": {
      "text/plain": [
       "78"
      ]
     },
     "execution_count": 21,
     "metadata": {},
     "output_type": "execute_result"
    }
   ],
   "source": [
    "test['pred_points'] = ppc['Score'][0].tolist()\n",
    "pts=test.groupby(['name']).sum()\n",
    "pts.sort_values(by =['pred_points'], inplace = True,ascending=False)\n",
    "pred = set(pts[:100].index)\n",
    "pts=test.groupby(['name']).sum()\n",
    "pts.sort_values(by =['total_points'], inplace = True,ascending=False)\n",
    "truth = set(pts[:100].index)\n",
    "len(pred.intersection(truth))"
   ]
  },
  {
   "cell_type": "code",
   "execution_count": 25,
   "id": "507cfdff",
   "metadata": {},
   "outputs": [],
   "source": [
    "# pm.save_trace(trace=trace)\n",
    "# pm.load_trace('.pymc_1.trace')"
   ]
  },
  {
   "cell_type": "code",
   "execution_count": null,
   "id": "c6c1406f",
   "metadata": {},
   "outputs": [],
   "source": []
  }
 ],
 "metadata": {
  "kernelspec": {
   "display_name": "Python 3",
   "language": "python",
   "name": "python3"
  },
  "language_info": {
   "codemirror_mode": {
    "name": "ipython",
    "version": 3
   },
   "file_extension": ".py",
   "mimetype": "text/x-python",
   "name": "python",
   "nbconvert_exporter": "python",
   "pygments_lexer": "ipython3",
   "version": "3.8.8"
  }
 },
 "nbformat": 4,
 "nbformat_minor": 5
}
