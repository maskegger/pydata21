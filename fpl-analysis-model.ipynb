{
 "cells": [
  {
   "cell_type": "markdown",
   "id": "5afc80f5",
   "metadata": {},
   "source": [
    "Alright, so let's build a hacky model"
   ]
  },
  {
   "cell_type": "code",
   "execution_count": 1,
   "id": "3d0a8296",
   "metadata": {
    "slideshow": {
     "slide_type": "skip"
    }
   },
   "outputs": [],
   "source": [
    "import warnings\n",
    "warnings.filterwarnings('ignore')"
   ]
  },
  {
   "cell_type": "code",
   "execution_count": 2,
   "id": "b23eed6c",
   "metadata": {
    "collapsed": true,
    "slideshow": {
     "slide_type": "slide"
    }
   },
   "outputs": [
    {
     "name": "stderr",
     "output_type": "stream",
     "text": [
      "You are running the v4 development version of PyMC which currently still lacks key features. You probably want to use the stable v3 instead which you can either install via conda or find on the v3 GitHub branch: https://github.com/pymc-devs/pymc/tree/v3\n"
     ]
    }
   ],
   "source": [
    "import pymc as pm\n",
    "import pandas as pd\n",
    "import numpy as np\n",
    "import arviz as az\n",
    "from sklearn.metrics import mean_absolute_error"
   ]
  },
  {
   "cell_type": "code",
   "execution_count": 3,
   "id": "38cb899f",
   "metadata": {
    "slideshow": {
     "slide_type": "slide"
    }
   },
   "outputs": [],
   "source": [
    "data = pd.read_csv('data.csv')\n",
    "train = data[:2985]\n",
    "test = data[2986:]\n",
    "\n",
    "ranks=4\n",
    "team_number = 20\n",
    "player_names = set(train.name)\n",
    "opp_defense_rank_no = train.opp_defense_rank.max() \n",
    "opp_attack_rank_no = train.opp_attack_rank.max() \n",
    "team_cluster_rank_no = train.team_cluster_rank.max() \n",
    "opp_cluster_rank_no = train.opp_cluster_rank.max() \n",
    "num_positions = 4\n",
    "N = len(train)"
   ]
  },
  {
   "cell_type": "code",
   "execution_count": 4,
   "id": "d3beea5b",
   "metadata": {
    "slideshow": {
     "slide_type": "slide"
    }
   },
   "outputs": [],
   "source": [
    "with pm.Model() as model:\n",
    "    nu = pm.Exponential('nu minus one', 1/29,shape=2) + 1 \n",
    "    err = pm.Uniform('std dev based on rank', 0, 100, shape=ranks)\n",
    "    err_b = pm.Uniform('std dev based on rank b', 0, 100, shape=ranks)"
   ]
  },
  {
   "cell_type": "code",
   "execution_count": 5,
   "id": "7da1e58a",
   "metadata": {
    "slideshow": {
     "slide_type": "slide"
    }
   },
   "outputs": [],
   "source": [
    "with model:\n",
    "    team_cluster_rank = pm.Data('team_cluster_rank',np.asarray((train['team_cluster_rank']).values, dtype = int))\n",
    "    opp_cluster_rank = pm.Data('opp_cluster_rank',np.asarray((train['opp_cluster_rank']).values, dtype = int))\n",
    "    opp_defense_rank = pm.Data('opp_defense_rank',np.asarray((train['opp_defense_rank']).values, dtype = int))\n",
    "    opp_attack_rank = pm.Data('opp_attack_rank',np.asarray((train['opp_attack_rank']).values, dtype = int))\n",
    "    initval = pm.Data('initval',np.asarray((train['initval']).values, dtype = int))\n",
    "    player_home = pm.Data('player_home',np.asarray(train['was_home'].values, dtype = int))\n",
    "    player_avg = pm.Data('player_avg',np.asarray((train['game_avg_7']).values, dtype = float))\n",
    "    player_opp = pm.Data('player_opp',np.asarray((train['opponent_team']).values, dtype = int))\n",
    "    player_team = pm.Data('player_team',np.asarray((train['team']).values, dtype = int))\n",
    "    player_rank = pm.Data('player_rank',np.asarray((train['rank']-1).values, dtype = int))\n",
    "    position_FWD = pm.Data('position_FWD',np.asarray((train['position_FWD']).values.astype(int), \n",
    "                                            dtype = int))\n",
    "    position_MID = pm.Data('position_MID',np.asarray((train['position_MID']).values.astype(int), \n",
    "                                            dtype = int))\n",
    "    position_GK = pm.Data('position_GK',np.asarray((train['position_GK']).values.astype(int), \n",
    "                                           dtype = int))\n",
    "    position_DEF = pm.Data('position_DEF',np.asarray((train['position_DEF']).values.astype(int), \n",
    "                                            dtype = int))\n",
    "    pos_id = pm.Data('pos_id',np.asarray((train['pos_id']).values, dtype = int))"
   ]
  },
  {
   "cell_type": "code",
   "execution_count": 6,
   "id": "676474a3",
   "metadata": {
    "slideshow": {
     "slide_type": "slide"
    }
   },
   "outputs": [],
   "source": [
    "with model:\n",
    "    opp_def = pm.Normal('opp team prior',mu=0, sigma=100, shape=num_positions)\n",
    "    opp_fwd = pm.Normal('defensive differential fwd',mu= opp_def[0], sigma=100, shape=team_number)\n",
    "    opp_mid = pm.Normal('defensive differential mid',mu= opp_def[1], sigma=100, shape=team_number)\n",
    "    opp_gk = pm.Normal('defensive differential gk',mu= opp_def[2], sigma=100, shape=team_number)\n",
    "    opp_defe = pm.Normal('defensive differential defe',mu= opp_def[3], sigma=100, shape=team_number)\n",
    "    \n",
    "    home_adv = pm.Normal('home additivie prior',mu= 0, sigma=100,shape = num_positions)     \n",
    "    away_adv = pm.Normal('away additivie prior',mu= 0, sigma=100,shape = num_positions)     \n",
    "    pos_home_fwd = pm.Normal('home differential fwd',mu=home_adv[0],sigma=100, shape = ranks)\n",
    "    pos_home_gk = pm.Normal('home differential gk',mu=home_adv[1],sigma=100, shape = ranks)\n",
    "    pos_home_defe = pm.Normal('home differential defe',mu=home_adv[2],sigma=100, shape = ranks)\n",
    "    pos_home_mid = pm.Normal('home differential mid',mu=home_adv[3],sigma=100, shape = ranks)\n",
    "    pos_away_fwd = pm.Normal('away differential fwd',mu=away_adv[0],sigma=100, shape = ranks)\n",
    "    pos_away_gk = pm.Normal('away differential gk',mu=away_adv[1],sigma=100, shape = ranks)\n",
    "    pos_away_mid = pm.Normal('away differential mid',mu=away_adv[2],sigma=100, shape = ranks)\n",
    "    pos_away_defe = pm.Normal('away differential defe',mu=away_adv[3],sigma=100, shape = ranks)"
   ]
  },
  {
   "cell_type": "code",
   "execution_count": 7,
   "id": "5f6fd949",
   "metadata": {
    "slideshow": {
     "slide_type": "slide"
    }
   },
   "outputs": [],
   "source": [
    "with model:\n",
    "    \n",
    "    team_strength = pm.Normal('team_strength',mu=0, sigma=100, shape=2) #home and away\n",
    "    team_strength_home = pm.Normal('team_strength_home',mu=team_strength[0],\n",
    "                                   sigma=100, shape=num_positions)\n",
    "    team_strength_away = pm.Normal('team_strength_away',mu=team_strength[1], \n",
    "                                   sigma=100, shape=num_positions)\n",
    "\n",
    "    team_strength_home_FWD = pm.Normal('team_strength_home_FWD',mu=team_strength_home[0], \n",
    "                                       sigma=100, shape=team_cluster_rank_no)\n",
    "    team_strength_home_MID = pm.Normal('team_strength_home_MID',mu=team_strength_home[1],\n",
    "                                       sigma=100, shape=team_cluster_rank_no)\n",
    "    team_strength_home_DEF = pm.Normal('team_strength_home_DEF',mu=team_strength_home[2], \n",
    "                                       sigma=100, shape=team_cluster_rank_no)\n",
    "    team_strength_home_GK = pm.Normal('team_strength_home_GK',mu=team_strength_home[3], \n",
    "                                      sigma=100, shape=team_cluster_rank_no)\n",
    "    \n",
    "    team_strength_away_FWD = pm.Normal('team_strength_away_FWD',mu=team_strength_away[0], \n",
    "                                       sigma=100, shape=team_cluster_rank_no)\n",
    "    team_strength_away_MID = pm.Normal('team_strength_away_MID',mu=team_strength_away[1], \n",
    "                                       sigma=100, shape=team_cluster_rank_no)\n",
    "    team_strength_away_DEF = pm.Normal('team_strength_away_DEF',mu=team_strength_away[2], \n",
    "                                       sigma=100, shape=team_cluster_rank_no)\n",
    "    team_strength_away_GK = pm.Normal('team_strength_away_GK',mu=team_strength_away[3],\n",
    "                                      sigma=100, shape=team_cluster_rank_no)\n",
    "    \n",
    "    \n",
    "    team_strength_effects = (\n",
    "        (player_home)*position_FWD*team_strength_home_FWD[team_cluster_rank-1] +\n",
    "        (player_home)*position_MID*team_strength_home_MID[team_cluster_rank-1] +\n",
    "        (player_home)*position_DEF*team_strength_home_DEF[team_cluster_rank-1] +\n",
    "        (player_home)*position_GK*team_strength_home_GK[team_cluster_rank-1] +\n",
    "\n",
    "        (1-player_home)*position_FWD*team_strength_away_FWD[team_cluster_rank-1] +\n",
    "        (1-player_home)*position_MID*team_strength_away_MID[team_cluster_rank-1] +\n",
    "        (1-player_home)*position_DEF*team_strength_away_DEF[team_cluster_rank-1] +\n",
    "        (1-player_home)*position_GK*team_strength_away_GK[team_cluster_rank-1])"
   ]
  },
  {
   "cell_type": "code",
   "execution_count": 8,
   "id": "9f47c827",
   "metadata": {
    "slideshow": {
     "slide_type": "slide"
    }
   },
   "outputs": [],
   "source": [
    "with model:    \n",
    "    opp_strength = pm.Normal('opp_strength',mu=0, sigma=100, shape=3)\n",
    "    opp_strength_team = pm.Normal('opp_strength_team',mu=opp_strength[0], sigma=100, shape=num_positions)\n",
    "    opp_strength_defense_team = pm.Normal('opp_strength_defense_team',mu=opp_strength[1], sigma=100, shape=num_positions)\n",
    "    opp_strength_attack_team = pm.Normal('opp_strength_attack_team',mu=opp_strength[2], \n",
    "                                         sigma=100, shape=num_positions)\n",
    "    \n",
    "    opp_strength_team_FWD = pm.Normal('opp_strength_team_FWD',mu=opp_strength_team[0], \n",
    "                                      sigma=100, shape=opp_cluster_rank_no)\n",
    "    opp_strength_team_MID = pm.Normal('opp_strength_team_MID',mu=opp_strength_team[1], \n",
    "                                      sigma=100, shape=opp_cluster_rank_no)\n",
    "    opp_strength_team_DEF = pm.Normal('opp_strength_team_DEF',mu=opp_strength_team[2], \n",
    "                                      sigma=100, shape=opp_cluster_rank_no)\n",
    "    opp_strength_team_GK = pm.Normal('opp_strength_team_GK',mu=opp_strength_team[3], \n",
    "                                     sigma=100, shape=opp_cluster_rank_no)\n",
    "    \n",
    "    opp_strength_team_effects = (\n",
    "        position_FWD*opp_strength_team_FWD[opp_cluster_rank-1] +\n",
    "        position_MID*opp_strength_team_MID[opp_cluster_rank-1] +\n",
    "        position_DEF*opp_strength_team_DEF[opp_cluster_rank-1] +\n",
    "        position_GK*opp_strength_team_GK[opp_cluster_rank-1])"
   ]
  },
  {
   "cell_type": "code",
   "execution_count": 9,
   "id": "f5f48c03",
   "metadata": {
    "slideshow": {
     "slide_type": "slide"
    }
   },
   "outputs": [],
   "source": [
    "with model:    \n",
    "    \n",
    "    opp_strength_defense_team_FWD = pm.Normal('opp_strength_defense_team_FWD',mu=opp_strength_defense_team[0], \n",
    "                                              sigma=100, shape=opp_defense_rank_no)\n",
    "    opp_strength_defense_team_MID = pm.Normal('opp_strength_defense_team_MID',mu=opp_strength_defense_team[1], \n",
    "                                              sigma=100, shape=opp_defense_rank_no)\n",
    "    opp_strength_defense_team_DEF = pm.Normal('opp_strength_defense_team_DEF',mu=opp_strength_defense_team[2], \n",
    "                                              sigma=100, shape=opp_defense_rank_no)\n",
    "    opp_strength_defense_team_GK = pm.Normal('opp_strength_defense_team_GK',mu=opp_strength_defense_team[3], \n",
    "                                             sigma=100, shape=opp_defense_rank_no)\n",
    "\n",
    "    opp_strength_defense_team_effects = (\n",
    "        position_FWD*opp_strength_defense_team_FWD[opp_cluster_rank-1] +\n",
    "        position_MID*opp_strength_defense_team_MID[opp_cluster_rank-1] +\n",
    "        position_DEF*opp_strength_defense_team_DEF[opp_cluster_rank-1] +\n",
    "        position_GK*opp_strength_defense_team_GK[opp_cluster_rank-1])"
   ]
  },
  {
   "cell_type": "code",
   "execution_count": 10,
   "id": "b644e177",
   "metadata": {
    "slideshow": {
     "slide_type": "slide"
    }
   },
   "outputs": [],
   "source": [
    "with model:\n",
    "    \n",
    "    opp_strength_attack_team_FWD = pm.Normal('opp_strength_attack_team_FWD',mu=opp_strength_attack_team[0], \n",
    "                                             sigma=100, shape=opp_attack_rank_no)\n",
    "    opp_strength_attack_team_MID = pm.Normal('opp_strength_attack_team_MID',mu=opp_strength_attack_team[1], \n",
    "                                             sigma=100, shape=opp_attack_rank_no)\n",
    "    opp_strength_attack_team_DEF = pm.Normal('opp_strength_attack_team_DEF',mu=opp_strength_attack_team[2], \n",
    "                                             sigma=100, shape=opp_attack_rank_no)\n",
    "    opp_strength_attack_team_GK = pm.Normal('opp_strength_attack_team_GK',mu=opp_strength_attack_team[3], \n",
    "                                            sigma=100, shape=opp_attack_rank_no)\n",
    "\n",
    "    opp_strength_attack_team_effects = (\n",
    "        position_FWD*opp_strength_attack_team_FWD[opp_cluster_rank-1] +\n",
    "        position_MID*opp_strength_attack_team_MID[opp_cluster_rank-1] +\n",
    "        position_DEF*opp_strength_attack_team_DEF[opp_cluster_rank-1] +\n",
    "        position_GK*opp_strength_attack_team_GK[opp_cluster_rank-1])"
   ]
  },
  {
   "cell_type": "code",
   "execution_count": 11,
   "id": "d3cba439",
   "metadata": {
    "slideshow": {
     "slide_type": "slide"
    }
   },
   "outputs": [],
   "source": [
    "with model:\n",
    "    def_effect = (position_FWD*opp_fwd[player_opp-1]+ \n",
    "    position_MID*opp_mid[player_opp-1]+ position_GK*opp_gk[player_opp-1]+ \n",
    "    position_DEF*opp_defe[player_opp-1])\n",
    "    \n",
    "    like1 = pm.StudentT('Diff From Avg', mu=def_effect, \n",
    "                        sd=err_b[player_rank],nu=nu[1], observed = train['diff_from_avg'])\n",
    "    \n",
    "    initval_coeff = pm.Normal('initval_coeff',0,100, shape = N)\n",
    "    "
   ]
  },
  {
   "cell_type": "code",
   "execution_count": 12,
   "id": "5f5f6411",
   "metadata": {
    "slideshow": {
     "slide_type": "slide"
    }
   },
   "outputs": [],
   "source": [
    "with model:\n",
    "    \n",
    "    mu = (position_GK*pos_home_gk[player_rank]*(player_home) +\n",
    "           position_MID*pos_home_mid[player_rank]*(player_home) +\n",
    "           position_FWD*pos_home_fwd[player_rank]*(player_home) +\n",
    "           position_DEF*pos_home_defe[player_rank]*(player_home) +\n",
    "           position_GK*pos_away_gk[player_rank]*(1-player_home) +\n",
    "           position_MID*pos_away_mid[player_rank]*(1-player_home) +\n",
    "           position_FWD*pos_away_fwd[player_rank]*(1-player_home) +\n",
    "           position_DEF*pos_away_defe[player_rank]*(1-player_home) + \n",
    "           team_strength_effects + opp_strength_team_effects +\n",
    "           opp_strength_attack_team_effects + \n",
    "           opp_strength_defense_team_effects + \n",
    "           initval*initval_coeff+player_avg + def_effect)\n",
    "    \n",
    "    like2 = pm.StudentT('Score', mu=mu, sd=err[player_rank], \n",
    "                        nu=nu[0], observed=train['total_points'])"
   ]
  },
  {
   "cell_type": "code",
   "execution_count": 13,
   "id": "1cd51837",
   "metadata": {
    "slideshow": {
     "slide_type": "slide"
    }
   },
   "outputs": [],
   "source": [
    "with model:\n",
    "#     trace = pm.sample(10000, pm.sample())\n",
    "    trace=az.from_netcdf('data')\n",
    "    assert all(az.rhat(trace) < 1.03)"
   ]
  },
  {
   "cell_type": "code",
   "execution_count": 14,
   "id": "79bfba7b",
   "metadata": {
    "slideshow": {
     "slide_type": "slide"
    }
   },
   "outputs": [
    {
     "data": {
      "text/html": [
       "\n",
       "    <div>\n",
       "        <style>\n",
       "            /* Turns off some styling */\n",
       "            progress {\n",
       "                /* gets rid of default border in Firefox and Opera. */\n",
       "                border: none;\n",
       "                /* Needs to be in here for Safari polyfill so background images work as expected. */\n",
       "                background-size: auto;\n",
       "            }\n",
       "            .progress-bar-interrupted, .progress-bar-interrupted::-webkit-progress-bar {\n",
       "                background: #F44336;\n",
       "            }\n",
       "        </style>\n",
       "      <progress value='44000' class='' max='44000' style='width:300px; height:20px; vertical-align: middle;'></progress>\n",
       "      100.00% [44000/44000 01:36<00:00]\n",
       "    </div>\n",
       "    "
      ],
      "text/plain": [
       "<IPython.core.display.HTML object>"
      ]
     },
     "metadata": {},
     "output_type": "display_data"
    }
   ],
   "source": [
    "with model:\n",
    "    pm.set_data({'team_cluster_rank': np.asarray((train['team_cluster_rank']).values, dtype = int)})\n",
    "    pm.set_data({'opp_cluster_rank': np.asarray((test['opp_cluster_rank']).values, dtype = int)})\n",
    "    pm.set_data({'opp_defense_rank': np.asarray((test['opp_defense_rank']).values, dtype = int)})\n",
    "    pm.set_data({'opp_attack_rank': np.asarray((test['opp_attack_rank']).values, dtype = int)})\n",
    "    pm.set_data({'initval': np.asarray((test['initval']).values, dtype = int)})\n",
    "    pm.set_data({'player_home': np.asarray(test['was_home'].values, dtype = int)})\n",
    "    pm.set_data({'player_avg': np.asarray((test['game_avg_7']).values, dtype = float)})\n",
    "    pm.set_data({'player_opp': np.asarray((test['opponent_team']).values, dtype = int)})\n",
    "    pm.set_data({'player_team': np.asarray((test['team']).values, dtype = int)})\n",
    "    pm.set_data({'player_rank': np.asarray((test['rank']-1).values, dtype = int)})\n",
    "    pm.set_data({'position_FWD': np.asarray((test['position_FWD']).values.astype(int),dtype = int)})\n",
    "    pm.set_data({'position_MID': np.asarray((test['position_MID']).values.astype(int), dtype = int)})\n",
    "    pm.set_data({'position_GK': np.asarray((test['position_GK']).values.astype(int),dtype = int)})\n",
    "    pm.set_data({'position_DEF': np.asarray((test['position_DEF']).values.astype(int), dtype = int)})\n",
    "    pm.set_data({'pos_id': np.asarray((test['pos_id']).values, dtype = int)})\n",
    "\n",
    "    ppc=pm.sample_posterior_predictive(trace, samples=44000)"
   ]
  },
  {
   "cell_type": "code",
   "execution_count": 15,
   "id": "38e6cbb9",
   "metadata": {
    "slideshow": {
     "slide_type": "slide"
    }
   },
   "outputs": [
    {
     "data": {
      "text/plain": [
       "7"
      ]
     },
     "execution_count": 15,
     "metadata": {},
     "output_type": "execute_result"
    }
   ],
   "source": [
    "test['pred_points'] = ppc['Score'][0].tolist()\n",
    "pts=test.groupby(['name']).sum()\n",
    "pts.sort_values(by =['pred_points'], inplace = True,ascending=False)\n",
    "pred = set(pts[:15].index)\n",
    "pts=test.groupby(['name']).sum()\n",
    "pts.sort_values(by =['total_points'], inplace = True,ascending=False)\n",
    "truth = set(pts[:15].index)\n",
    "len(pred.intersection(truth))"
   ]
  },
  {
   "cell_type": "code",
   "execution_count": 16,
   "id": "4ccfdb50",
   "metadata": {
    "slideshow": {
     "slide_type": "slide"
    }
   },
   "outputs": [
    {
     "data": {
      "text/plain": [
       "2.5331934828587186"
      ]
     },
     "execution_count": 16,
     "metadata": {},
     "output_type": "execute_result"
    }
   ],
   "source": [
    "mean_absolute_error(test.loc[:,'total_points'].values, ppc['Score'].mean(axis=0))"
   ]
  },
  {
   "cell_type": "code",
   "execution_count": 17,
   "id": "306f1c7a",
   "metadata": {
    "slideshow": {
     "slide_type": "slide"
    }
   },
   "outputs": [
    {
     "data": {
      "text/plain": [
       "{'Callum Wilson',\n",
       " 'Christian Benteke',\n",
       " 'Dominic Calvert-Lewin',\n",
       " 'Emiliano Martínez',\n",
       " 'Harry Kane',\n",
       " 'Heung-Min Son',\n",
       " 'Hugo Lloris',\n",
       " 'Jordan Pickford',\n",
       " 'Matheus Pereira',\n",
       " 'Mohamed Salah',\n",
       " 'Patrick Bamford',\n",
       " 'Pierre-Emerick Aubameyang',\n",
       " 'Roberto Firmino',\n",
       " 'Rodrigo Moreno',\n",
       " 'Stuart Dallas'}"
      ]
     },
     "execution_count": 17,
     "metadata": {},
     "output_type": "execute_result"
    }
   ],
   "source": [
    "pred"
   ]
  },
  {
   "cell_type": "code",
   "execution_count": 18,
   "id": "25b974a3",
   "metadata": {
    "slideshow": {
     "slide_type": "slide"
    }
   },
   "outputs": [
    {
     "data": {
      "text/plain": [
       "{'Emiliano Martínez',\n",
       " 'Harry Kane',\n",
       " 'Illan Meslier',\n",
       " 'Jordan Pickford',\n",
       " 'Kelechi Iheanacho',\n",
       " 'Leandro Trossard',\n",
       " 'Lewis Dunk',\n",
       " 'Lucas Digne',\n",
       " 'Matheus Pereira',\n",
       " 'Mohamed Salah',\n",
       " 'Nicolas Pépé',\n",
       " 'Patrick Bamford',\n",
       " 'Sam Johnstone',\n",
       " 'Stuart Dallas',\n",
       " 'Trent Alexander-Arnold'}"
      ]
     },
     "execution_count": 18,
     "metadata": {},
     "output_type": "execute_result"
    }
   ],
   "source": [
    "truth"
   ]
  },
  {
   "cell_type": "markdown",
   "id": "b1a9a4a4",
   "metadata": {
    "slideshow": {
     "slide_type": "slide"
    }
   },
   "source": [
    "### References\n",
    "1. https://srome.github.io/Bayesian-Hierarchical-Modeling-Applied-to-Fantasy-Football-Projections-for-Increased-Insight-and-Confidence/\n",
    "2. https://www.degruyter.com/document/doi/10.1515/jqas-2017-0066/html\n",
    "3. https://pymc-examples.readthedocs.io/en/latest/case_studies/multilevel_modeling.html"
   ]
  }
 ],
 "metadata": {
  "_draft": {
   "nbviewer_url": "https://gist.github.com/afbc9d1b86121df7bd1f7c2e0a8763de"
  },
  "celltoolbar": "Slideshow",
  "gist": {
   "data": {
    "description": "",
    "public": false
   },
   "id": "afbc9d1b86121df7bd1f7c2e0a8763de"
  },
  "kernelspec": {
   "display_name": "Python 3",
   "language": "python",
   "name": "python3"
  },
  "language_info": {
   "codemirror_mode": {
    "name": "ipython",
    "version": 3
   },
   "file_extension": ".py",
   "mimetype": "text/x-python",
   "name": "python",
   "nbconvert_exporter": "python",
   "pygments_lexer": "ipython3",
   "version": "3.8.8"
  }
 },
 "nbformat": 4,
 "nbformat_minor": 5
}
